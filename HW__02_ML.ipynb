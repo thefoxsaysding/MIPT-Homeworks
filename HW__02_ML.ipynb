{
  "nbformat": 4,
  "nbformat_minor": 0,
  "metadata": {
    "colab": {
      "provenance": [],
      "collapsed_sections": [],
      "authorship_tag": "ABX9TyPHLUz6fdk/yHD32Q/ZpAvs",
      "include_colab_link": true
    },
    "kernelspec": {
      "name": "python3",
      "display_name": "Python 3"
    },
    "language_info": {
      "name": "python"
    }
  },
  "cells": [
    {
      "cell_type": "markdown",
      "metadata": {
        "id": "view-in-github",
        "colab_type": "text"
      },
      "source": [
        "<a href=\"https://colab.research.google.com/github/thefoxsaysding/MIPT-Homeworks/blob/main/HW__02_ML.ipynb\" target=\"_parent\"><img src=\"https://colab.research.google.com/assets/colab-badge.svg\" alt=\"Open In Colab\"/></a>"
      ]
    },
    {
      "cell_type": "code",
      "execution_count": null,
      "metadata": {
        "id": "VqrEK467Xb4-"
      },
      "outputs": [],
      "source": [
        "from numpy import random\n",
        "import numpy as np\n",
        "import pandas as pd\n",
        "import matplotlib.pyplot as plt\n",
        "import seaborn as sns"
      ]
    },
    {
      "cell_type": "code",
      "source": [
        "random_array = random.normal(size=1000)\n",
        "series = pd.Series(random_array)"
      ],
      "metadata": {
        "id": "FCCmbA7k1FOi"
      },
      "execution_count": null,
      "outputs": []
    },
    {
      "cell_type": "markdown",
      "source": [
        "# 1. Среднее значение"
      ],
      "metadata": {
        "id": "CmLTLgkQztl0"
      }
    },
    {
      "cell_type": "code",
      "source": [
        "def sr_znach(series):\n",
        "    size=0\n",
        "    for element in series:\n",
        "      size+=1\n",
        "\n",
        "    return series.sum()/size\n",
        "\n",
        "print (sr_znach(series))\n",
        "print (series.mean())"
      ],
      "metadata": {
        "colab": {
          "base_uri": "https://localhost:8080/"
        },
        "id": "ga3ToWQa3kSO",
        "outputId": "253a863e-9c02-4c78-e1ce-5337ce68d2a7"
      },
      "execution_count": null,
      "outputs": [
        {
          "output_type": "stream",
          "name": "stdout",
          "text": [
            "0.047660802881516105\n",
            "0.047660802881516105\n"
          ]
        }
      ]
    },
    {
      "cell_type": "markdown",
      "source": [
        "# 2. Медиана"
      ],
      "metadata": {
        "id": "LUkUqdKPzuRX"
      }
    },
    {
      "cell_type": "code",
      "source": [
        "def media (series):\n",
        "    size=0\n",
        "    for element in series:\n",
        "        size+=1\n",
        "\n",
        "    series_sorted=series.sort_values(ascending=True).reset_index(drop=True)\n",
        "    if size % 2 == 0:\n",
        "        med = (series_sorted[size // 2-1] + series_sorted[size // 2])/2\n",
        "    else: \n",
        "       med = series_sorted[size / 2 - 1]\n",
        "    return med\n",
        "\n",
        "print(media(series))\n",
        "print(series.median ())"
      ],
      "metadata": {
        "colab": {
          "base_uri": "https://localhost:8080/"
        },
        "id": "9wpM8kjK5vII",
        "outputId": "408acbd0-532d-44be-d517-968c97a9fa34"
      },
      "execution_count": null,
      "outputs": [
        {
          "output_type": "stream",
          "name": "stdout",
          "text": [
            "0.048602912770529236\n",
            "0.048602912770529236\n"
          ]
        }
      ]
    },
    {
      "cell_type": "markdown",
      "source": [
        "# 3. Стандартное отклонение"
      ],
      "metadata": {
        "id": "IyxHBDoRzuhx"
      }
    },
    {
      "cell_type": "code",
      "source": [
        "def std_otkl (series):\n",
        "  size=0\n",
        "  for element in series:\n",
        "    size+=1\n",
        "  \n",
        "  sum = 0\n",
        "  for element in series:\n",
        "    sum += (element - sr_znach(series))**2\n",
        "\n",
        "  return np.sqrt(sum / (size))\n",
        "\n",
        "print(std_otkl(series))\n",
        "print(series.std(ddof=0))\n"
      ],
      "metadata": {
        "colab": {
          "base_uri": "https://localhost:8080/"
        },
        "id": "rDl1gd6kDAJs",
        "outputId": "38ee077e-aa25-4def-eaf5-f9dd4c663417"
      },
      "execution_count": null,
      "outputs": [
        {
          "output_type": "stream",
          "name": "stdout",
          "text": [
            "1.0189698062528796\n",
            "1.0189698062528798\n"
          ]
        }
      ]
    },
    {
      "cell_type": "markdown",
      "source": [
        "# 4. Межквартильный размах"
      ],
      "metadata": {
        "id": "Fes8-2-Izu61"
      }
    },
    {
      "cell_type": "code",
      "source": [
        "def percent_series (series, p = 23):\n",
        "\n",
        "  size=0\n",
        "  for element in series:\n",
        "      size+=1\n",
        "\n",
        "  series_sorted=series.sort_values(ascending=True).reset_index(drop=True)\n",
        "  if p * size % 100 == 0:\n",
        "      perc = series_sorted[p * size // (100)]\n",
        "  else:\n",
        "      perc = (series_sorted[p * size // (100-1) - 1] + series_sorted[p * size // (100)])/2\n",
        "  return perc\n",
        "\n",
        "def q_razmah (series):\n",
        "  return percent_series(series, 75) - percent_series(series, 25)\n",
        "\n",
        "\n",
        "print(q_razmah (series))\n",
        "print(np.percentile(series,75,interpolation='higher')-np.percentile(series,25, interpolation='higher'))\n",
        "\n"
      ],
      "metadata": {
        "colab": {
          "base_uri": "https://localhost:8080/"
        },
        "id": "VElMRs1cNeyi",
        "outputId": "eba12f38-aef1-470f-8e75-175fcc902f3e"
      },
      "execution_count": null,
      "outputs": [
        {
          "output_type": "stream",
          "name": "stdout",
          "text": [
            "1.4252261436490146\n",
            "1.4252261436490146\n"
          ]
        }
      ]
    },
    {
      "cell_type": "markdown",
      "source": [
        "# 5. 23-й перцентиль"
      ],
      "metadata": {
        "id": "Ao1GqdazzvLP"
      }
    },
    {
      "cell_type": "code",
      "source": [
        "def percent_series (series, p = 23):\n",
        "\n",
        "  size=0\n",
        "  for element in series:\n",
        "      size+=1\n",
        "\n",
        "  series_sorted=series.sort_values(ascending=True).reset_index(drop=True)\n",
        "  if p * size % 100 == 0:\n",
        "      perc = series_sorted[p * size // (100)]\n",
        "  else:\n",
        "      perc = (series_sorted[p * size // (100-1) - 1] + series_sorted[p * size // (100)])/2\n",
        "  return perc\n",
        "\n",
        "print(percent_series(series, 23))\n",
        "print(np.percentile(series,23, interpolation='higher'))"
      ],
      "metadata": {
        "colab": {
          "base_uri": "https://localhost:8080/"
        },
        "id": "A7RgjY8iVSZq",
        "outputId": "1b472c11-7068-42ce-f073-b4565dabd236"
      },
      "execution_count": null,
      "outputs": [
        {
          "output_type": "stream",
          "name": "stdout",
          "text": [
            "-0.7203156146513515\n",
            "-0.7203156146513515\n"
          ]
        }
      ]
    }
  ]
}