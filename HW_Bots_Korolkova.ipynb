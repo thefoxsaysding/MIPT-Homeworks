{
  "nbformat": 4,
  "nbformat_minor": 0,
  "metadata": {
    "colab": {
      "provenance": [],
      "collapsed_sections": [
        "vB1W9l5pna1w",
        "3TxYyaxiqNf2",
        "8OhfhAg6qbnh",
        "TxeR63wwnkq4",
        "OYdywfWCostn",
        "ZQ4rXQEjpPMT",
        "5aAU3TWypZup",
        "xmoA-Fg7pgTN",
        "VGcpraqCpjpX",
        "aEOHsipDpoqP",
        "D2IhA8OpprG0",
        "-1ExthN4pwpE",
        "GXWqwQKZp1ob",
        "WJ8q2TPXp7j7",
        "uc2W2SGGt8nI",
        "WzpdBHQNt9H6",
        "ILBBscoPt9z5",
        "BSX8_rVsuElq",
        "zKyVO3_jXx_A",
        "w1pXRw5xzmsX"
      ],
      "authorship_tag": "ABX9TyMy42H/XsGvAfvJifFUNd09",
      "include_colab_link": true
    },
    "kernelspec": {
      "name": "python3",
      "display_name": "Python 3"
    },
    "language_info": {
      "name": "python"
    }
  },
  "cells": [
    {
      "cell_type": "markdown",
      "metadata": {
        "id": "view-in-github",
        "colab_type": "text"
      },
      "source": [
        "<a href=\"https://colab.research.google.com/github/thefoxsaysding/MIPT-Homeworks/blob/main/HW_Bots_Korolkova.ipynb\" target=\"_parent\"><img src=\"https://colab.research.google.com/assets/colab-badge.svg\" alt=\"Open In Colab\"/></a>"
      ]
    },
    {
      "cell_type": "code",
      "source": [
        "!pip install -q -U kaggle_environments"
      ],
      "metadata": {
        "id": "ABFNZN1NlAG9"
      },
      "execution_count": null,
      "outputs": []
    },
    {
      "cell_type": "code",
      "source": [
        "import numpy as np\n",
        "import pandas as pd\n",
        "import random\n",
        "import operator\n",
        "import matplotlib.pyplot as plt\n",
        "import seaborn as sns\n",
        "from kaggle_environments import make, evaluate"
      ],
      "metadata": {
        "id": "17MWOv1JmENM"
      },
      "execution_count": null,
      "outputs": []
    },
    {
      "cell_type": "markdown",
      "source": [
        "# **Создание ботов**"
      ],
      "metadata": {
        "id": "vB1W9l5pna1w"
      }
    },
    {
      "cell_type": "markdown",
      "source": [
        "## Справочная информация"
      ],
      "metadata": {
        "id": "3TxYyaxiqNf2"
      }
    },
    {
      "cell_type": "markdown",
      "source": [
        "При создании ботов использованы следующие значения: *0 - камень, 1 - бумага, 2 - ножницы*\n",
        "\n",
        "**Созданные боты:**\n",
        "\n",
        "1.   ***Бот 1***  - всегда возвращает камень\n",
        "2.   ***Бот 2***  - всегда возращает бумагу\n",
        "3.   ***Бот 3***  - всегда возвращает ножницы\n",
        "4.   ***Бот 4***  - возвращает случайное значение (ножницы, камень или бумага)\n",
        "5.   ***Бот 5***  - возвращает по порядку камень, бумагу, ножницы\n",
        "6.   ***Бот 6***  - возвращает поочередно камень и бумагу\n",
        "7.   ***Бот 7***  - возвращает поочередно камень и ножницы\n",
        "8.   ***Бот 8***  - возвращает поочередно бумагу и ножницы\n",
        "9.   ***Бот 9***  - возвращает значение, соответствующее остатку от деления чисел Фибоначчи на 3\n",
        "10.  ***Бот 10*** - возвращает случайное значение (камень или бумага)\n",
        "11.  ***Бот 11*** - возвращает случайное значение (камень или ножницы)\n",
        "12.  ***Бот 12*** - возвращает случайное значение (бумага или ножницы)\n",
        "13.  ***Бот 13*** - возвращает случайное значение (камень, бумага или ножницы) в примерном соотношении 3:2:1 \n",
        "14.  ***Бот 14*** - возвращает случайное значение (камень или бумага) в соотношении 5:1\n",
        "15.  ***Бот 15*** - заимствованный из библиотеки - производит то же действие, если выиграл, и меняет на действие оппонента, если проиграл/при ничьей\n",
        "16.  ***Бот 16*** - возвращает значение оппонента на предыдущем шаге, либо случайное значение на первом шаге"
      ],
      "metadata": {
        "id": "_CAR3-nDoRuK"
      }
    },
    {
      "cell_type": "markdown",
      "source": [
        "## Боты"
      ],
      "metadata": {
        "id": "8OhfhAg6qbnh"
      }
    },
    {
      "cell_type": "markdown",
      "source": [
        "### Бот 1 rock_agent - только камень"
      ],
      "metadata": {
        "id": "TxeR63wwnkq4"
      }
    },
    {
      "cell_type": "code",
      "source": [
        "%%writefile rock_agent.py\n",
        "\n",
        "def rock_agent(observation, configuration):\n",
        "    return 0"
      ],
      "metadata": {
        "colab": {
          "base_uri": "https://localhost:8080/"
        },
        "id": "HvTe4cuOnpJ0",
        "outputId": "a8fb2fa8-e1a3-4fe0-b6dd-cd63260a6ee4"
      },
      "execution_count": null,
      "outputs": [
        {
          "output_type": "stream",
          "name": "stdout",
          "text": [
            "Overwriting rock_agent.py\n"
          ]
        }
      ]
    },
    {
      "cell_type": "markdown",
      "source": [
        "### Бот 2 paper_agent - только бумага"
      ],
      "metadata": {
        "id": "OYdywfWCostn"
      }
    },
    {
      "cell_type": "code",
      "source": [
        "%%writefile paper_agent.py\n",
        "\n",
        "def paper_agent(observation, configuration):\n",
        "    return 1"
      ],
      "metadata": {
        "colab": {
          "base_uri": "https://localhost:8080/"
        },
        "outputId": "86582589-54ae-4d33-a537-05a7ab7fd704",
        "id": "NQqNoPsOoiAw"
      },
      "execution_count": null,
      "outputs": [
        {
          "output_type": "stream",
          "name": "stdout",
          "text": [
            "Overwriting paper_agent.py\n"
          ]
        }
      ]
    },
    {
      "cell_type": "markdown",
      "source": [
        "### Бот 3 scissors_agent - только ножницы"
      ],
      "metadata": {
        "id": "ZQ4rXQEjpPMT"
      }
    },
    {
      "cell_type": "code",
      "source": [
        "%%writefile scissors_agent.py\n",
        "\n",
        "def scissors_agent(observation, configuration):\n",
        "    return 2"
      ],
      "metadata": {
        "colab": {
          "base_uri": "https://localhost:8080/"
        },
        "id": "-cDG8mV8pRl4",
        "outputId": "fa5aa340-58bb-49c2-8c68-b24bbb980baf"
      },
      "execution_count": null,
      "outputs": [
        {
          "output_type": "stream",
          "name": "stdout",
          "text": [
            "Overwriting scissors_agent.py\n"
          ]
        }
      ]
    },
    {
      "cell_type": "markdown",
      "source": [
        "### Бот 4 random_agent - случайное значение"
      ],
      "metadata": {
        "id": "5aAU3TWypZup"
      }
    },
    {
      "cell_type": "code",
      "source": [
        "%%writefile random_agent.py\n",
        "\n",
        "import random\n",
        "\n",
        "def random_agent(observation, configuration):\n",
        "    return random.randrange(0, 3)"
      ],
      "metadata": {
        "colab": {
          "base_uri": "https://localhost:8080/"
        },
        "id": "aaUZYxaXpc0o",
        "outputId": "1ecdfba1-f2c1-4b94-f339-58f4c611c1f9"
      },
      "execution_count": null,
      "outputs": [
        {
          "output_type": "stream",
          "name": "stdout",
          "text": [
            "Overwriting random_agent.py\n"
          ]
        }
      ]
    },
    {
      "cell_type": "markdown",
      "source": [
        "### Бот 5 - seriatim_agent - по порядку камень, ножницы, бумага"
      ],
      "metadata": {
        "id": "xmoA-Fg7pgTN"
      }
    },
    {
      "cell_type": "code",
      "source": [
        "%%writefile seriatim_agent.py\n",
        "\n",
        "counter = 0\n",
        "\n",
        "def seriatim_agent(observation, configuration):\n",
        "    global counter\n",
        "    counter += 1\n",
        "    if counter >= 3:\n",
        "        counter = 0\n",
        "    return counter"
      ],
      "metadata": {
        "colab": {
          "base_uri": "https://localhost:8080/"
        },
        "id": "OJ8apZkmpipO",
        "outputId": "9f264447-7e50-47de-d248-0a98e72388b6"
      },
      "execution_count": null,
      "outputs": [
        {
          "output_type": "stream",
          "name": "stdout",
          "text": [
            "Overwriting seriatim_agent.py\n"
          ]
        }
      ]
    },
    {
      "cell_type": "markdown",
      "source": [
        "### Бот 6 seriatim_rock_paper_agent - поочередно камень и бумага"
      ],
      "metadata": {
        "id": "VGcpraqCpjpX"
      }
    },
    {
      "cell_type": "code",
      "source": [
        "%%writefile seriatim_rock_paper_agent.py\n",
        "\n",
        "counter = 0\n",
        "\n",
        "def seriatim_rock_paper_agent(observation, configuration):\n",
        "    global counter\n",
        "    counter += 1\n",
        "    if counter >= 2:\n",
        "        counter = 0\n",
        "    return counter"
      ],
      "metadata": {
        "colab": {
          "base_uri": "https://localhost:8080/"
        },
        "id": "k669C61UpnE4",
        "outputId": "05719c47-7fe5-4e13-d869-80c9ee571a03"
      },
      "execution_count": null,
      "outputs": [
        {
          "output_type": "stream",
          "name": "stdout",
          "text": [
            "Overwriting seriatim_rock_paper_agent.py\n"
          ]
        }
      ]
    },
    {
      "cell_type": "markdown",
      "source": [
        "### Бот 7 seriatim_rock_scissors_agent.py - поочередно камень или ножницы"
      ],
      "metadata": {
        "id": "aEOHsipDpoqP"
      }
    },
    {
      "cell_type": "code",
      "source": [
        "%%writefile seriatim_rock_scissors_agent.py\n",
        "\n",
        "counter = 0\n",
        "\n",
        "def seriatim_rock_scissors_agent(observation, configuration):\n",
        "    global counter\n",
        "    counter += 2\n",
        "    if counter >= 3:\n",
        "        counter = 0\n",
        "    return counter"
      ],
      "metadata": {
        "colab": {
          "base_uri": "https://localhost:8080/"
        },
        "id": "SRCCb37apqdz",
        "outputId": "8e214e8e-db69-4401-a573-171c315833ed"
      },
      "execution_count": null,
      "outputs": [
        {
          "output_type": "stream",
          "name": "stdout",
          "text": [
            "Overwriting seriatim_rock_scissors_agent.py\n"
          ]
        }
      ]
    },
    {
      "cell_type": "markdown",
      "source": [
        "### Бот 8 seriatim_paper_scissors_agent - возвращает поочередно бумагу и ножницы"
      ],
      "metadata": {
        "id": "D2IhA8OpprG0"
      }
    },
    {
      "cell_type": "code",
      "source": [
        "%%writefile seriatim_paper_scissors_agent.py\n",
        "\n",
        "counter = 1\n",
        "\n",
        "def seriatim_paper_scissors_agent(observation, configuration):\n",
        "    global counter\n",
        "    counter += 1\n",
        "    if counter >= 3:\n",
        "        counter = 1\n",
        "    return counter"
      ],
      "metadata": {
        "colab": {
          "base_uri": "https://localhost:8080/"
        },
        "id": "kH8pir3PptcF",
        "outputId": "02210255-e65b-4c22-87b9-47f321484a0d"
      },
      "execution_count": null,
      "outputs": [
        {
          "output_type": "stream",
          "name": "stdout",
          "text": [
            "Overwriting seriatim_paper_scissors_agent.py\n"
          ]
        }
      ]
    },
    {
      "cell_type": "markdown",
      "source": [
        "### Бот 9 fibonacci_agent - остаток от деления чисел Фибоначчи на 3"
      ],
      "metadata": {
        "id": "_FwE2DMGpuJt"
      }
    },
    {
      "cell_type": "code",
      "source": [
        "%%writefile fibonacci_agent.py\n",
        "fib = 1\n",
        "fib2 = 1\n",
        "\n",
        "def fibonacci_agent(observation, configuration):\n",
        "    global fib\n",
        "    global fib2\n",
        "    result=fib%3\n",
        "    sum_fib=fib+fib2 \n",
        "    fib = fib2\n",
        "    fib2 = sum_fib\n",
        "    return result"
      ],
      "metadata": {
        "colab": {
          "base_uri": "https://localhost:8080/"
        },
        "id": "EDE4FtiJpvvh",
        "outputId": "79943bd2-8379-4d64-9877-a3d87194b705"
      },
      "execution_count": null,
      "outputs": [
        {
          "output_type": "stream",
          "name": "stdout",
          "text": [
            "Overwriting fibonacci_agent.py\n"
          ]
        }
      ]
    },
    {
      "cell_type": "markdown",
      "source": [
        "### Бот 10 random_rock_paper - камень или бумага случайно"
      ],
      "metadata": {
        "id": "-1ExthN4pwpE"
      }
    },
    {
      "cell_type": "code",
      "source": [
        "%%writefile random_rock_paper.py\n",
        "\n",
        "import random\n",
        "\n",
        "def random_rock_paper(observation, configuration):\n",
        "    return random.randrange(0, 2)"
      ],
      "metadata": {
        "colab": {
          "base_uri": "https://localhost:8080/"
        },
        "id": "z21WIN11pymH",
        "outputId": "5eb7e593-9d0d-4c6a-8f6b-ebc5d86d9284"
      },
      "execution_count": null,
      "outputs": [
        {
          "output_type": "stream",
          "name": "stdout",
          "text": [
            "Overwriting random_rock_paper.py\n"
          ]
        }
      ]
    },
    {
      "cell_type": "markdown",
      "source": [
        "### Бот 11 random_rock_scissors - камень или ножницы случайно"
      ],
      "metadata": {
        "id": "GXWqwQKZp1ob"
      }
    },
    {
      "cell_type": "code",
      "source": [
        "%%writefile random_rock_scissors.py\n",
        "\n",
        "import random\n",
        "\n",
        "def random_rock_scissors(observation, configuration):\n",
        "    return random.randrange(0, 3, 2)"
      ],
      "metadata": {
        "colab": {
          "base_uri": "https://localhost:8080/"
        },
        "id": "-EweVwGGp5Is",
        "outputId": "eb94fd01-395e-4d53-e0a8-e4e48feadcce"
      },
      "execution_count": null,
      "outputs": [
        {
          "output_type": "stream",
          "name": "stdout",
          "text": [
            "Overwriting random_rock_scissors.py\n"
          ]
        }
      ]
    },
    {
      "cell_type": "markdown",
      "source": [
        "### Бот 12 random_paper_scissors- бумага или ножницы случайно"
      ],
      "metadata": {
        "id": "WJ8q2TPXp7j7"
      }
    },
    {
      "cell_type": "code",
      "source": [
        "%%writefile random_paper_scissors.py\n",
        "\n",
        "import random\n",
        "\n",
        "def random_paper_scissors(observation, configuration):\n",
        "    return random.randrange(1, 3)"
      ],
      "metadata": {
        "colab": {
          "base_uri": "https://localhost:8080/"
        },
        "id": "1ewIoNJVqtGm",
        "outputId": "3109c5d5-88dc-4e32-dc59-2ee088c80b23"
      },
      "execution_count": null,
      "outputs": [
        {
          "output_type": "stream",
          "name": "stdout",
          "text": [
            "Overwriting random_paper_scissors.py\n"
          ]
        }
      ]
    },
    {
      "cell_type": "markdown",
      "source": [
        "### Бот 13 random_RRR_PP_S_agent - случайно камень-бумага-ножницы в соотношении 3:2:1 "
      ],
      "metadata": {
        "id": "uc2W2SGGt8nI"
      }
    },
    {
      "cell_type": "code",
      "source": [
        "%%writefile random_RRR_PP_S_agent.py\n",
        "import random\n",
        "from random import choice\n",
        "\n",
        "def random_RRR_PP_S_agent(observation, configuration):\n",
        "    rps_seq = [0,0,0,1,1,2]\n",
        "    return(choice(rps_seq))"
      ],
      "metadata": {
        "colab": {
          "base_uri": "https://localhost:8080/"
        },
        "id": "miG3yU9oQP8d",
        "outputId": "b0232810-f1f2-4c28-97d2-0f115b5e4733"
      },
      "execution_count": null,
      "outputs": [
        {
          "output_type": "stream",
          "name": "stdout",
          "text": [
            "Overwriting random_RRR_PP_S_agent.py\n"
          ]
        }
      ]
    },
    {
      "cell_type": "markdown",
      "source": [
        "### Бот 14 random_RRRКК_P_agent - случайно камень или бумага в соотношении 5:1"
      ],
      "metadata": {
        "id": "WzpdBHQNt9H6"
      }
    },
    {
      "cell_type": "code",
      "source": [
        "%%writefile random_RRRКК_P_agent.py\n",
        "import random\n",
        "from random import choice\n",
        "\n",
        "def random_RRRКК_P_agent(observation, configuration):\n",
        "    rps_seq = [0,0,0,0,0,1]\n",
        "    return(choice(rps_seq))"
      ],
      "metadata": {
        "colab": {
          "base_uri": "https://localhost:8080/"
        },
        "id": "b6vqMUkPQQeY",
        "outputId": "2c5463c8-6de7-4efc-a6d0-53fb1b43b1e0"
      },
      "execution_count": null,
      "outputs": [
        {
          "output_type": "stream",
          "name": "stdout",
          "text": [
            "Overwriting random_RRRКК_P_agent.py\n"
          ]
        }
      ]
    },
    {
      "cell_type": "markdown",
      "source": [
        "### Бот 15 win_opposit1 - заимствованный - делает то же при победе, копирует оппонента при проигрыше/ничьей"
      ],
      "metadata": {
        "id": "ILBBscoPt9z5"
      }
    },
    {
      "cell_type": "code",
      "source": [
        "%%writefile win_opposit1.py\n",
        "\n",
        "import math\n",
        "\n",
        "def get_score(left_move, right_move):\n",
        "    delta = (\n",
        "        right_move - left_move\n",
        "        if (left_move + right_move) % 2 == 0\n",
        "        else left_move - right_move\n",
        "    )\n",
        "    return 0 if delta == 0 else math.copysign(1, delta)\n",
        "\n",
        "import random\n",
        "\n",
        "lastAction = None\n",
        "\n",
        "def win_opposit1(observation, configuration):\n",
        "    global lastAction\n",
        "    if observation.step == 0:\n",
        "        lastAction = random.randrange(0, configuration.signs)\n",
        "    elif get_score(lastAction, observation.lastOpponentAction) < 1:\n",
        "        lastAction = observation.lastOpponentAction\n",
        "    return lastAction"
      ],
      "metadata": {
        "colab": {
          "base_uri": "https://localhost:8080/"
        },
        "id": "6abKRiOOunZY",
        "outputId": "c1024daf-cef2-4d9d-ece1-a6490e2d5740"
      },
      "execution_count": null,
      "outputs": [
        {
          "output_type": "stream",
          "name": "stdout",
          "text": [
            "Overwriting win_opposit1.py\n"
          ]
        }
      ]
    },
    {
      "cell_type": "markdown",
      "source": [
        "### Бот 16 copy_opponent - копирует прошлый шаг оппонента"
      ],
      "metadata": {
        "id": "BSX8_rVsuElq"
      }
    },
    {
      "cell_type": "code",
      "source": [
        "%%writefile copy_opponent.py\n",
        "\n",
        "import random\n",
        "\n",
        "def copy_opponent(observation, configuration):\n",
        "    if observation.step > 0:\n",
        "        return observation.lastOpponentAction\n",
        "    else:\n",
        "        return random.randrange(0, 3)"
      ],
      "metadata": {
        "colab": {
          "base_uri": "https://localhost:8080/"
        },
        "id": "5pBfMQjluHqD",
        "outputId": "79eb2c7d-0843-4f33-9b4f-6b8f957925d0"
      },
      "execution_count": null,
      "outputs": [
        {
          "output_type": "stream",
          "name": "stdout",
          "text": [
            "Overwriting copy_opponent.py\n"
          ]
        }
      ]
    },
    {
      "cell_type": "markdown",
      "source": [
        "# **Турнир**"
      ],
      "metadata": {
        "id": "zKyVO3_jXx_A"
      }
    },
    {
      "cell_type": "code",
      "source": [
        "agents_list = ['rock_agent.py',\n",
        "               'paper_agent.py',\n",
        "               'scissors_agent.py',\n",
        "               'random_agent.py',\n",
        "               'seriatim_agent.py',\n",
        "               'seriatim_rock_paper_agent.py',\n",
        "               'seriatim_rock_scissors_agent.py',\n",
        "               'seriatim_paper_scissors_agent.py',\n",
        "               'fibonacci_agent.py',\n",
        "               'random_rock_paper.py',\n",
        "               'random_rock_scissors.py',\n",
        "               'random_paper_scissors.py',\n",
        "               'random_RRR_PP_S_agent.py',\n",
        "               'random_RRRКК_P_agent.py',\n",
        "               'win_opposit1.py',\n",
        "               'copy_opponent.py']\n",
        "\n",
        "result_dict = {agent : 0 for agent in agents_list}\n",
        "n=100 #количество эпизодов\n",
        "\n",
        "for a in agents_list:\n",
        "    for b in agents_list:\n",
        "        if b != a:\n",
        "            result = evaluate(\"rps\", [a, b], configuration={\"episodeSteps\": n, 'tieRewardThreshold': 1})\n",
        "            result_clear = result[0]\n",
        "            if result_clear[0]>result_clear[1]:\n",
        "                result_dict[a] += 1\n",
        "            elif result_clear[0]<result_clear[1]:\n",
        "                result_dict[b] += 1\n",
        "\n",
        "sorted_tuples = sorted(result_dict.items(), key=operator.itemgetter(1), reverse=True) #сортируем словарь с результатами\n",
        "result_dict_sorted = {k: v for k, v in sorted_tuples}\n",
        "\n",
        "max_value = max(result_dict_sorted.values()) #ищем чемпиона\n",
        "final_dict_max = {k: v for k, v in result_dict_sorted.items() if v == max_value}\n",
        "\n",
        "min_value = min(result_dict_sorted.values()) #ищем худшего\n",
        "final_dict_min = {k: v for k, v in result_dict_sorted.items() if v == min_value}"
      ],
      "metadata": {
        "id": "KsLQU3DOYIBT"
      },
      "execution_count": null,
      "outputs": []
    },
    {
      "cell_type": "markdown",
      "source": [
        "# **Подведение итогов**"
      ],
      "metadata": {
        "id": "w1pXRw5xzmsX"
      }
    },
    {
      "cell_type": "code",
      "source": [
        "print(\"А теперь подведем итоги нашего турнира ботов!\")\n",
        "\n",
        "for k, v in final_dict_max.items():\n",
        "    print(f'Самым эффективным оказался бот {k}, одержав целых {v} побед из 30 игр!')\n",
        "for k, v in final_dict_min.items():\n",
        "    print(f'Самым неэффективным оказался бот {k}, одержав всего {v} побед из 30 игр :(')\n",
        "    print()\n",
        "print(\"С показателями всех ботов можно ознакомиться ниже:\")\n",
        "for k, v in result_dict_sorted.items():\n",
        "    print (f'Бот {k} одержал победу в {int(v*100/30)} % случаев ({v} побед) из 30 игр.')"
      ],
      "metadata": {
        "colab": {
          "base_uri": "https://localhost:8080/"
        },
        "id": "eZiwwFPKgHOv",
        "outputId": "1a65243d-4419-460e-a4a1-2882ac2cfe45"
      },
      "execution_count": null,
      "outputs": [
        {
          "output_type": "stream",
          "name": "stdout",
          "text": [
            "А теперь подведем итоги нашего турнира ботов!\n",
            "Самым эффективным оказался бот win_opposit1.py, одержав целых 21 побед из 30 игр!\n",
            "Самым неэффективным оказался бот rock_agent.py, одержав всего 11 побед из 30 игр :(\n",
            "\n",
            "Самым неэффективным оказался бот random_agent.py, одержав всего 11 побед из 30 игр :(\n",
            "\n",
            "Самым неэффективным оказался бот random_rock_scissors.py, одержав всего 11 побед из 30 игр :(\n",
            "\n",
            "Самым неэффективным оказался бот random_RRRКК_P_agent.py, одержав всего 11 побед из 30 игр :(\n",
            "\n",
            "Самым неэффективным оказался бот copy_opponent.py, одержав всего 11 побед из 30 игр :(\n",
            "\n",
            "С показателями всех ботов можно ознакомиться ниже:\n",
            "Бот win_opposit1.py одержал победу в 70 % случаев (21 побед) из 30 игр.\n",
            "Бот paper_agent.py одержал победу в 53 % случаев (16 побед) из 30 игр.\n",
            "Бот seriatim_agent.py одержал победу в 53 % случаев (16 побед) из 30 игр.\n",
            "Бот seriatim_rock_scissors_agent.py одержал победу в 53 % случаев (16 побед) из 30 игр.\n",
            "Бот fibonacci_agent.py одержал победу в 53 % случаев (16 побед) из 30 игр.\n",
            "Бот seriatim_paper_scissors_agent.py одержал победу в 50 % случаев (15 побед) из 30 игр.\n",
            "Бот random_paper_scissors.py одержал победу в 50 % случаев (15 побед) из 30 игр.\n",
            "Бот seriatim_rock_paper_agent.py одержал победу в 46 % случаев (14 побед) из 30 игр.\n",
            "Бот scissors_agent.py одержал победу в 43 % случаев (13 побед) из 30 игр.\n",
            "Бот random_rock_paper.py одержал победу в 43 % случаев (13 побед) из 30 игр.\n",
            "Бот random_RRR_PP_S_agent.py одержал победу в 40 % случаев (12 побед) из 30 игр.\n",
            "Бот rock_agent.py одержал победу в 36 % случаев (11 побед) из 30 игр.\n",
            "Бот random_agent.py одержал победу в 36 % случаев (11 побед) из 30 игр.\n",
            "Бот random_rock_scissors.py одержал победу в 36 % случаев (11 побед) из 30 игр.\n",
            "Бот random_RRRКК_P_agent.py одержал победу в 36 % случаев (11 побед) из 30 игр.\n",
            "Бот copy_opponent.py одержал победу в 36 % случаев (11 побед) из 30 игр.\n"
          ]
        }
      ]
    }
  ]
}